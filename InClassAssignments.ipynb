{
  "nbformat": 4,
  "nbformat_minor": 0,
  "metadata": {
    "colab": {
      "provenance": [],
      "authorship_tag": "ABX9TyPPSRVpxA7K8dT9wgfUbtNF",
      "include_colab_link": true
    },
    "kernelspec": {
      "name": "python3",
      "display_name": "Python 3"
    },
    "language_info": {
      "name": "python"
    }
  },
  "cells": [
    {
      "cell_type": "markdown",
      "metadata": {
        "id": "view-in-github",
        "colab_type": "text"
      },
      "source": [
        "<a href=\"https://colab.research.google.com/github/katarinaammann/BTE320/blob/main/InClassAssignments.ipynb\" target=\"_parent\"><img src=\"https://colab.research.google.com/assets/colab-badge.svg\" alt=\"Open In Colab\"/></a>"
      ]
    },
    {
      "cell_type": "markdown",
      "source": [
        "# Shape Area Calculator"
      ],
      "metadata": {
        "id": "alpv9sQa6GG3"
      }
    },
    {
      "cell_type": "code",
      "source": [
        "pi = 3.14\n",
        "height = 10\n",
        "radius = 3\n",
        "\n",
        "area = (2 * pi * radius * radius) + (2 * pi * radius * height)\n",
        "print(area)"
      ],
      "metadata": {
        "colab": {
          "base_uri": "https://localhost:8080/"
        },
        "id": "QyaoPHT7SQwT",
        "outputId": "cb6bc927-1152-4d24-edf8-c339837e8113"
      },
      "execution_count": null,
      "outputs": [
        {
          "output_type": "stream",
          "name": "stdout",
          "text": [
            "244.92000000000002\n"
          ]
        }
      ]
    },
    {
      "cell_type": "markdown",
      "source": [
        "#Rock Paper Scissors"
      ],
      "metadata": {
        "id": "FoOITxVq6Yd0"
      }
    },
    {
      "cell_type": "code",
      "source": [
        "#input\n",
        "player1 = input('Choose Rock, Paper, or Scissors')\n",
        "player2 = input('Choose Rock, Paper, or Scissors')\n",
        "if player1 == player2:\n",
        "  print('Draw')\n",
        "elif(player1 == 'Scissors' and player2 == 'Paper') or (player1 == 'Rock' and player2 == 'Scissors') or (player1 == 'Paper' and player2 == 'Rock'):\n",
        "  print('Player 1 Wins!')\n",
        "else:\n",
        "  print('Player 2 Wins!')"
      ],
      "metadata": {
        "colab": {
          "base_uri": "https://localhost:8080/"
        },
        "id": "ihmAjRP76crV",
        "outputId": "c7e23a88-271e-4caa-9934-b417bf02642b"
      },
      "execution_count": null,
      "outputs": [
        {
          "output_type": "stream",
          "name": "stdout",
          "text": [
            "Choose Rock, Paper, or Scissors Scissors\n",
            "Choose Rock, Paper, or Scissors Rock\n",
            "Player 2 Wins!\n"
          ]
        }
      ]
    },
    {
      "cell_type": "markdown",
      "source": [
        "Now you an choose to play aginst the computer (rather than co-op)"
      ],
      "metadata": {
        "id": "FkfKpmSb8NDy"
      }
    },
    {
      "cell_type": "code",
      "source": [
        "player1 = input('Choose Rock, Paper or Scissors: ')\n",
        "player2 = random.choice ('Rock', 'Paper', 'Scissors')\n",
        "if player1 == player2:\n",
        "  print('Draw')\n",
        "elif(player1 == 'Scissors' and player2 == 'Paper') or (player1 == 'Rock' and player2 == 'Scissors') or (player1 == 'Paper' and player2 == 'Rock'):\n",
        "  print('Player 1 Wins!')\n",
        "else:\n",
        "  print('Player 2 Wins!')"
      ],
      "metadata": {
        "id": "8aKOHD0L8MWQ"
      },
      "execution_count": null,
      "outputs": []
    },
    {
      "cell_type": "markdown",
      "source": [
        "#Calculator"
      ],
      "metadata": {
        "id": "7z9rvoG8R29o"
      }
    },
    {
      "cell_type": "code",
      "source": [
        "n1 = float(input(''))\n",
        "Symbol = input('')\n",
        "n2 = float(input(''))\n",
        "if Symbol == '+':\n",
        "  final_value = n1 + n2\n",
        "elif Symbol == '/':\n",
        "  final_value = n1/n2\n",
        "elif Symbol == '-':\n",
        "  final_value = n1 - n2\n",
        "elif Symbol == '*':\n",
        "  final_value = n1*n2\n",
        "elif Symbol == '**':\n",
        "  final_value = n1**n2\n",
        "print(final_value)\n"
      ],
      "metadata": {
        "id": "bOPpAgbFR6SI"
      },
      "execution_count": null,
      "outputs": []
    },
    {
      "cell_type": "markdown",
      "source": [
        "# Parking Garage"
      ],
      "metadata": {
        "id": "lpuCHAke6Lix"
      }
    },
    {
      "cell_type": "code",
      "source": [
        "flat = 5\n",
        "\n",
        "for t in range(1,9):\n",
        "  charge = flat + 2.5 * t\n",
        "if charge < 10:\n",
        "  charge = 10\n",
        "elif charge > 20:\n",
        "  charge = 20\n",
        "print (t,charge)"
      ],
      "metadata": {
        "colab": {
          "base_uri": "https://localhost:8080/"
        },
        "id": "3-5MqlbpMwZ0",
        "outputId": "8d421b59-59bc-451f-afe4-cc2a1941c3d0"
      },
      "execution_count": null,
      "outputs": [
        {
          "output_type": "stream",
          "name": "stdout",
          "text": [
            "8 20\n"
          ]
        }
      ]
    },
    {
      "cell_type": "markdown",
      "source": [
        "#Movie Theater\n"
      ],
      "metadata": {
        "id": "VY_doZMy6RoH"
      }
    },
    {
      "cell_type": "code",
      "source": [
        "ticketPrice = 10\n",
        "fixedCost = 200\n",
        "standardAttendees = 20\n",
        "\n",
        "for ad in range(0,201,25):\n",
        "  profit = 10 * (standardAttendees + 2 * round(ad ** 0.5)) - fixedCost - ad\n",
        "  print(ad,profit)\n"
      ],
      "metadata": {
        "colab": {
          "base_uri": "https://localhost:8080/"
        },
        "id": "6J0fxr9gNS_Q",
        "outputId": "75f3e028-3f85-4750-9367-7cd9dbd87a99"
      },
      "execution_count": null,
      "outputs": [
        {
          "output_type": "stream",
          "name": "stdout",
          "text": [
            "0 0\n",
            "25 75\n",
            "50 90\n",
            "75 105\n",
            "100 100\n",
            "125 95\n",
            "150 90\n",
            "175 85\n",
            "200 80\n"
          ]
        }
      ]
    },
    {
      "cell_type": "markdown",
      "source": [
        "#Movie Theater 2"
      ],
      "metadata": {
        "id": "Srufz1MGIIsp"
      }
    },
    {
      "cell_type": "code",
      "source": [
        "ticketPrice = 10\n",
        "fixedCost = 200\n",
        "standardAttendees = 20\n",
        "\n",
        "ad = 0\n",
        "while ad < 201:\n",
        "  profit = 10* (standardAttendees + 2 * round(ad ** 0.5))- fixedCost - ad\n",
        "\n",
        "  print(ad,profit)\n",
        "  ad = ad + 25"
      ],
      "metadata": {
        "colab": {
          "base_uri": "https://localhost:8080/"
        },
        "id": "huFpIHPNSkKe",
        "outputId": "3dbe5a2e-5ac7-45fc-b326-94a179213316"
      },
      "execution_count": null,
      "outputs": [
        {
          "output_type": "stream",
          "name": "stdout",
          "text": [
            "0 0\n",
            "25 75\n",
            "50 90\n",
            "75 105\n",
            "100 100\n",
            "125 95\n",
            "150 90\n",
            "175 85\n",
            "200 80\n"
          ]
        }
      ]
    },
    {
      "cell_type": "markdown",
      "source": [
        "#Months Calendar"
      ],
      "metadata": {
        "id": "Bo3aiteiF9zg"
      }
    },
    {
      "cell_type": "code",
      "source": [
        "months = {}\n",
        "\n",
        "names = ['Jan', 'Feb', 'Mar', 'Apr', 'May', 'Jun', 'Jul', 'Aug', 'Sep', 'Oct', 'Nov', 'Dec']\n",
        "numbers = [1, 2, 3, 4, 5, 6, 7, 8, 9, 10, 11, 12]\n",
        "\n",
        "for i in range(len(numbers)):\n",
        "    months[numbers[i]] = names[i]\n",
        "\n",
        "print(months)"
      ],
      "metadata": {
        "colab": {
          "base_uri": "https://localhost:8080/"
        },
        "id": "kB5FptizLUtA",
        "outputId": "3a9fb597-63a8-4096-fead-66b4fd58495b"
      },
      "execution_count": 7,
      "outputs": [
        {
          "output_type": "stream",
          "name": "stdout",
          "text": [
            "{1: 'Jan', 2: 'Feb', 3: 'Mar', 4: 'Apr', 5: 'May', 6: 'Jun', 7: 'Jul', 8: 'Aug', 9: 'Sep', 10: 'Oct', 11: 'Nov', 12: 'Dec'}\n"
          ]
        }
      ]
    },
    {
      "cell_type": "markdown",
      "source": [
        "another way:"
      ],
      "metadata": {
        "id": "nm2GCuICLp4L"
      }
    },
    {
      "cell_type": "code",
      "source": [
        "months = {}\n",
        "\n",
        "names = ['Jan', 'Feb', 'Mar', 'Apr', 'May', 'Jun', 'Jul', 'Aug', 'Sep', 'Oct', 'Nov', 'Dec']\n",
        "numbers = [1, 2, 3, 4, 5, 6, 7, 8, 9, 10, 11, 12]\n",
        "\n",
        "for n in numbers:\n",
        "    months[n] = names[n-1]\n",
        "\n",
        "(months)"
      ],
      "metadata": {
        "colab": {
          "base_uri": "https://localhost:8080/"
        },
        "id": "x6hEP3iDLrXg",
        "outputId": "81ae2472-4987-4f02-9d52-40422266da0c"
      },
      "execution_count": 3,
      "outputs": [
        {
          "output_type": "execute_result",
          "data": {
            "text/plain": [
              "{1: 'Jan',\n",
              " 2: 'Feb',\n",
              " 3: 'Mar',\n",
              " 4: 'Apr',\n",
              " 5: 'May',\n",
              " 6: 'Jun',\n",
              " 7: 'Jul',\n",
              " 8: 'Aug',\n",
              " 9: 'Sep',\n",
              " 10: 'Oct',\n",
              " 11: 'Nov',\n",
              " 12: 'Dec'}"
            ]
          },
          "metadata": {},
          "execution_count": 3
        }
      ]
    },
    {
      "cell_type": "code",
      "source": [
        "for key in months.keys():\n",
        "  print(months[key], end='')"
      ],
      "metadata": {
        "colab": {
          "base_uri": "https://localhost:8080/"
        },
        "id": "01JjIhEfSW0e",
        "outputId": "a1e09ab3-be36-4a59-d779-c42debc45c5d"
      },
      "execution_count": 9,
      "outputs": [
        {
          "output_type": "stream",
          "name": "stdout",
          "text": [
            "JanFebMarAprMayJunJulAugSepOctNovDec"
          ]
        }
      ]
    },
    {
      "cell_type": "code",
      "source": [
        "for value in months.values():\n",
        "  print(months[key], end='')"
      ],
      "metadata": {
        "colab": {
          "base_uri": "https://localhost:8080/"
        },
        "id": "RrhEn9TySzrY",
        "outputId": "4bf642d5-6242-4509-c863-9192464e1627"
      },
      "execution_count": 14,
      "outputs": [
        {
          "output_type": "stream",
          "name": "stdout",
          "text": [
            "DecDecDecDecDecDecDecDecDecDecDecDec"
          ]
        }
      ]
    },
    {
      "cell_type": "code",
      "source": [
        "for key, value in months.items():\n",
        "  print(key, value)"
      ],
      "metadata": {
        "colab": {
          "base_uri": "https://localhost:8080/"
        },
        "id": "tNY1j2bmS72F",
        "outputId": "19e6211b-46ff-44ef-e858-ef5e90234b55"
      },
      "execution_count": 15,
      "outputs": [
        {
          "output_type": "stream",
          "name": "stdout",
          "text": [
            "1 Jan\n",
            "2 Feb\n",
            "3 Mar\n",
            "4 Apr\n",
            "5 May\n",
            "6 Jun\n",
            "7 Jul\n",
            "8 Aug\n",
            "9 Sep\n",
            "10 Oct\n",
            "11 Nov\n",
            "12 Dec\n"
          ]
        }
      ]
    }
  ]
}