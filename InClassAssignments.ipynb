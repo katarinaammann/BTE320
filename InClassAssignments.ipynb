{
  "nbformat": 4,
  "nbformat_minor": 0,
  "metadata": {
    "colab": {
      "provenance": [],
      "authorship_tag": "ABX9TyOU/I8lva/rPXst8/g6jAyu",
      "include_colab_link": true
    },
    "kernelspec": {
      "name": "python3",
      "display_name": "Python 3"
    },
    "language_info": {
      "name": "python"
    }
  },
  "cells": [
    {
      "cell_type": "markdown",
      "metadata": {
        "id": "view-in-github",
        "colab_type": "text"
      },
      "source": [
        "<a href=\"https://colab.research.google.com/github/katarinaammann/BTE320/blob/main/InClassAssignments.ipynb\" target=\"_parent\"><img src=\"https://colab.research.google.com/assets/colab-badge.svg\" alt=\"Open In Colab\"/></a>"
      ]
    },
    {
      "cell_type": "markdown",
      "source": [
        "# Shape Area Calculator"
      ],
      "metadata": {
        "id": "alpv9sQa6GG3"
      }
    },
    {
      "cell_type": "code",
      "source": [
        "pi = 3.14\n",
        "height = 10\n",
        "radius = 3\n",
        "\n",
        "area = (2 * pi * radius * radius) + (2 * pi * radius * height)\n",
        "print(area)"
      ],
      "metadata": {
        "colab": {
          "base_uri": "https://localhost:8080/"
        },
        "id": "QyaoPHT7SQwT",
        "outputId": "cb6bc927-1152-4d24-edf8-c339837e8113"
      },
      "execution_count": null,
      "outputs": [
        {
          "output_type": "stream",
          "name": "stdout",
          "text": [
            "244.92000000000002\n"
          ]
        }
      ]
    },
    {
      "cell_type": "markdown",
      "source": [
        "#Rock Paper Scissors"
      ],
      "metadata": {
        "id": "FoOITxVq6Yd0"
      }
    },
    {
      "cell_type": "code",
      "source": [
        "#input\n",
        "player1 = input('Choose Rock, Paper, or Scissors')\n",
        "player2 = input('Choose Rock, Paper, or Scissors')\n",
        "if player1 == player2:\n",
        "  print('Draw')\n",
        "elif(player1 == 'Scissors' and player2 == 'Paper') or (player1 == 'Rock' and player2 == 'Scissors') or (player1 == 'Paper' and player2 == 'Rock'):\n",
        "  print('Player 1 Wins!')\n",
        "else:\n",
        "  print('Player 2 Wins!')"
      ],
      "metadata": {
        "colab": {
          "base_uri": "https://localhost:8080/"
        },
        "id": "ihmAjRP76crV",
        "outputId": "c7e23a88-271e-4caa-9934-b417bf02642b"
      },
      "execution_count": 2,
      "outputs": [
        {
          "output_type": "stream",
          "name": "stdout",
          "text": [
            "Choose Rock, Paper, or Scissors Scissors\n",
            "Choose Rock, Paper, or Scissors Rock\n",
            "Player 2 Wins!\n"
          ]
        }
      ]
    },
    {
      "cell_type": "markdown",
      "source": [
        "Now you an choose to play aginst the computer (rather than co-op)"
      ],
      "metadata": {
        "id": "FkfKpmSb8NDy"
      }
    },
    {
      "cell_type": "code",
      "source": [
        "player1 = input('Choose Rock, Paper or Scissors: ')\n",
        "player2 = random.choice ('Rock', 'Paper', 'Scissors')\n",
        "if player1 == player2:\n",
        "  print('Draw')\n",
        "elif(player1 == 'Scissors' and player2 == 'Paper') or (player1 == 'Rock' and player2 == 'Scissors') or (player1 == 'Paper' and player2 == 'Rock'):\n",
        "  print('Player 1 Wins!')\n",
        "else:\n",
        "  print('Player 2 Wins!')"
      ],
      "metadata": {
        "id": "8aKOHD0L8MWQ"
      },
      "execution_count": null,
      "outputs": []
    },
    {
      "cell_type": "markdown",
      "source": [
        "# Parking Garage"
      ],
      "metadata": {
        "id": "lpuCHAke6Lix"
      }
    },
    {
      "cell_type": "code",
      "source": [
        "flat = 5\n",
        "\n",
        "for t in range(1,9):\n",
        "  charge = flat + 2.5 * t\n",
        "if charge < 10:\n",
        "  charge = 10\n",
        "elif charge > 20:\n",
        "  charge = 20\n",
        "print (t,charge)"
      ],
      "metadata": {
        "colab": {
          "base_uri": "https://localhost:8080/"
        },
        "id": "3-5MqlbpMwZ0",
        "outputId": "8d421b59-59bc-451f-afe4-cc2a1941c3d0"
      },
      "execution_count": null,
      "outputs": [
        {
          "output_type": "stream",
          "name": "stdout",
          "text": [
            "8 20\n"
          ]
        }
      ]
    },
    {
      "cell_type": "markdown",
      "source": [
        "#Movie Theater\n"
      ],
      "metadata": {
        "id": "VY_doZMy6RoH"
      }
    },
    {
      "cell_type": "code",
      "source": [
        "ticketPrice = 10\n",
        "fixedCost = 200\n",
        "standardAttendees = 20\n",
        "\n",
        "for ad in range(0,201,25):\n",
        "  profit = 10 * (standardAttendees + 2 * round(ad ** 0.5)) - fixedCost - ad\n",
        "  print(ad,profit)\n"
      ],
      "metadata": {
        "colab": {
          "base_uri": "https://localhost:8080/"
        },
        "id": "6J0fxr9gNS_Q",
        "outputId": "75f3e028-3f85-4750-9367-7cd9dbd87a99"
      },
      "execution_count": null,
      "outputs": [
        {
          "output_type": "stream",
          "name": "stdout",
          "text": [
            "0 0\n",
            "25 75\n",
            "50 90\n",
            "75 105\n",
            "100 100\n",
            "125 95\n",
            "150 90\n",
            "175 85\n",
            "200 80\n"
          ]
        }
      ]
    },
    {
      "cell_type": "code",
      "source": [
        "ticketPrice = 10\n",
        "fixedCost = 200\n",
        "standardAttendees = 20\n",
        "\n",
        "ad = 0\n",
        "while ad < 201:\n",
        "  profit = 10* (standardAttendees + 2 * round(ad ** 0.5))- fixedCost - ad\n",
        "\n",
        "  print(ad,profit)\n",
        "  ad = ad + 25"
      ],
      "metadata": {
        "colab": {
          "base_uri": "https://localhost:8080/"
        },
        "id": "huFpIHPNSkKe",
        "outputId": "3dbe5a2e-5ac7-45fc-b326-94a179213316"
      },
      "execution_count": null,
      "outputs": [
        {
          "output_type": "stream",
          "name": "stdout",
          "text": [
            "0 0\n",
            "25 75\n",
            "50 90\n",
            "75 105\n",
            "100 100\n",
            "125 95\n",
            "150 90\n",
            "175 85\n",
            "200 80\n"
          ]
        }
      ]
    }
  ]
}